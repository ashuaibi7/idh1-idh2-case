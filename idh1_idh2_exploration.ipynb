{
 "cells": [
  {
   "cell_type": "markdown",
   "id": "09c34949",
   "metadata": {},
   "source": [
    "# The Case of IDH1/IDH2\n",
    "\n",
    "Here we look at the genes **IDH1** and **IDH2** evaluate the discrepency in their results. Both should be identified as drivers, although we see that IDH2 is NOT.\n",
    "\n",
    "For the code below, these are the details on the dataset, mutation types, bmr calculations, and cancer subtype used:\n",
    "- BMR Calculations: **Mutsig2CV**\n",
    "- Dataset: **Lawrence**\n",
    "- Cancer Subtype: **LAML**\n",
    "- Mutation Type: **Missense**"
   ]
  },
  {
   "cell_type": "markdown",
   "id": "73297479",
   "metadata": {},
   "source": [
    "##### IMPORTS"
   ]
  },
  {
   "cell_type": "code",
   "execution_count": 1,
   "id": "b8025939",
   "metadata": {},
   "outputs": [
    {
     "name": "stderr",
     "output_type": "stream",
     "text": [
      "/Users/ahmed/opt/anaconda3/lib/python3.9/site-packages/scipy/__init__.py:146: UserWarning: A NumPy version >=1.16.5 and <1.23.0 is required for this version of SciPy (detected version 1.26.2\n",
      "  warnings.warn(f\"A NumPy version >={np_minversion} and <{np_maxversion}\"\n"
     ]
    }
   ],
   "source": [
    "### IMPORTS ###\n",
    "import os\n",
    "import numpy as np\n",
    "import pandas as pd\n",
    "import seaborn as sns\n",
    "import matplotlib.pyplot as plt\n",
    "\n",
    "from scipy.optimize import minimize\n",
    "from IPython.display import display, HTML"
   ]
  },
  {
   "cell_type": "markdown",
   "id": "6172d804",
   "metadata": {},
   "source": [
    "##### CONSTANTS"
   ]
  },
  {
   "cell_type": "code",
   "execution_count": 2,
   "id": "a919f56f",
   "metadata": {},
   "outputs": [],
   "source": [
    "### CONSTANTS ###\n",
    "IDH1_BMR_FN = 'idh1_pmf.csv'\n",
    "IDH2_BMR_FN = 'idh2_pmf.csv'\n",
    "CNT_MAT_FN = 'LAML_mis_cnt_mat.csv'\n",
    "OBS_EXP_FN = 'LAML_mis_obs_exp_table.csv'\n",
    "OURMETHOD_RES_FN = 'LAML_final_mis_single.csv'"
   ]
  },
  {
   "cell_type": "markdown",
   "id": "16e3a573",
   "metadata": {},
   "source": [
    "##### HELPER FUNCTIONS"
   ]
  },
  {
   "cell_type": "code",
   "execution_count": 3,
   "id": "dced2c30",
   "metadata": {},
   "outputs": [],
   "source": [
    "def display_dataframes_side_by_side(df1, df2, gene_name=None, num_rows=10):\n",
    "    def display_side_by_side(left_df, right_df, left_label, right_label):\n",
    "        html_str = (f\"<table style='border-collapse: separate; border-spacing: 10px;'><tr>\"\n",
    "            f\"<td><strong>{left_label}:</strong><br>{left_df.to_html()}</td>\"\n",
    "            f\"<td style='border-left: 2px solid black;'><strong>{right_label}:</strong><br>{right_df.to_html()}</td>\"\n",
    "            f\"</tr></table>\")\n",
    "        display(HTML(html_str))\n",
    "    display_side_by_side(df1.head(num_rows), df2.head(num_rows), 'obs_exp_df', 'ourmethod_df')\n",
    "    if gene_name:\n",
    "        display_side_by_side(df1[df1['gene'] == gene_name], df2[df2['gene'] == gene_name],\n",
    "                              f'obs_exp_df - {gene_name}', f'ourmethod_df - {gene_name}')"
   ]
  },
  {
   "cell_type": "markdown",
   "id": "426f5253",
   "metadata": {},
   "source": [
    "### The Data\n",
    "\n",
    "- idh1_bmr_df: the BMR P(x = k) values for k = 0 ... 70 for gene IDH1\n",
    "- idh2_bmr_df: the BMR P(x = k) values for k = 0 ... 70 for gene IDH2\n",
    "- obs_exp_df: observed - expected mutation counts for all genes (L genes)\n",
    "- cnt_mat_df: mutation count matrix (N samples x L genes)\n",
    "- ourmethod_df: ranked results of ourmethod on single genes (using mixture model formulation)"
   ]
  },
  {
   "cell_type": "code",
   "execution_count": 4,
   "id": "2760f002",
   "metadata": {},
   "outputs": [],
   "source": [
    "idh1_bmr_df = pd.read_csv(IDH1_BMR_FN, index_col=0).T\n",
    "idh2_bmr_df = pd.read_csv(IDH2_BMR_FN, index_col=0).T\n",
    "obs_exp_df = pd.read_csv(OBS_EXP_FN)\n",
    "cnt_mat_df = pd.read_csv(CNT_MAT_FN, index_col=0)\n",
    "ourmethod_df = pd.read_csv(OURMETHOD_RES_FN)\n",
    "idh1_bmr_dict = idh1_bmr_df.T.to_dict(orient='list')\n",
    "idh2_bmr_dict = idh2_bmr_df.T.to_dict(orient='list')"
   ]
  },
  {
   "cell_type": "markdown",
   "id": "b76abde4",
   "metadata": {},
   "source": [
    "#### Observed - Expected Table vs. OurMethod Results\n",
    "\n",
    " Obs-Exp dataframe on the left, ranked by greatest obs-exp. Ourmethod results df on the right, ranked by log-likelihood ratio (llr). The case of IDH2 is shown separately below, signifying the discrepancy in the ranking by obs-exp and the ranking our method gives."
   ]
  },
  {
   "cell_type": "code",
   "execution_count": 5,
   "id": "e756b597",
   "metadata": {},
   "outputs": [
    {
     "data": {
      "text/html": [
       "<table style='border-collapse: separate; border-spacing: 10px;'><tr><td><strong>obs_exp_df:</strong><br><table border=\"1\" class=\"dataframe\">\n",
       "  <thead>\n",
       "    <tr style=\"text-align: right;\">\n",
       "      <th></th>\n",
       "      <th>gene</th>\n",
       "      <th>obs</th>\n",
       "      <th>exp</th>\n",
       "      <th>obs - exp</th>\n",
       "    </tr>\n",
       "  </thead>\n",
       "  <tbody>\n",
       "    <tr>\n",
       "      <th>0</th>\n",
       "      <td>DNMT3A</td>\n",
       "      <td>41</td>\n",
       "      <td>2.368637</td>\n",
       "      <td>38.631363</td>\n",
       "    </tr>\n",
       "    <tr>\n",
       "      <th>1</th>\n",
       "      <td>IDH1</td>\n",
       "      <td>18</td>\n",
       "      <td>0.716961</td>\n",
       "      <td>17.283039</td>\n",
       "    </tr>\n",
       "    <tr>\n",
       "      <th>2</th>\n",
       "      <td>IDH2</td>\n",
       "      <td>20</td>\n",
       "      <td>2.969578</td>\n",
       "      <td>17.030422</td>\n",
       "    </tr>\n",
       "    <tr>\n",
       "      <th>3</th>\n",
       "      <td>NRAS</td>\n",
       "      <td>15</td>\n",
       "      <td>0.285843</td>\n",
       "      <td>14.714157</td>\n",
       "    </tr>\n",
       "    <tr>\n",
       "      <th>4</th>\n",
       "      <td>FLT3</td>\n",
       "      <td>15</td>\n",
       "      <td>1.680245</td>\n",
       "      <td>13.319755</td>\n",
       "    </tr>\n",
       "    <tr>\n",
       "      <th>5</th>\n",
       "      <td>TP53</td>\n",
       "      <td>11</td>\n",
       "      <td>1.144934</td>\n",
       "      <td>9.855066</td>\n",
       "    </tr>\n",
       "    <tr>\n",
       "      <th>6</th>\n",
       "      <td>RUNX1</td>\n",
       "      <td>9</td>\n",
       "      <td>0.452652</td>\n",
       "      <td>8.547348</td>\n",
       "    </tr>\n",
       "    <tr>\n",
       "      <th>7</th>\n",
       "      <td>PTPN11</td>\n",
       "      <td>9</td>\n",
       "      <td>0.647018</td>\n",
       "      <td>8.352982</td>\n",
       "    </tr>\n",
       "    <tr>\n",
       "      <th>8</th>\n",
       "      <td>U2AF1</td>\n",
       "      <td>8</td>\n",
       "      <td>0.211520</td>\n",
       "      <td>7.788480</td>\n",
       "    </tr>\n",
       "    <tr>\n",
       "      <th>9</th>\n",
       "      <td>KRAS</td>\n",
       "      <td>8</td>\n",
       "      <td>0.277616</td>\n",
       "      <td>7.722384</td>\n",
       "    </tr>\n",
       "  </tbody>\n",
       "</table></td><td style='border-left: 2px solid black;'><strong>ourmethod_df:</strong><br><table border=\"1\" class=\"dataframe\">\n",
       "  <thead>\n",
       "    <tr style=\"text-align: right;\">\n",
       "      <th></th>\n",
       "      <th>gene</th>\n",
       "      <th>pi</th>\n",
       "      <th>ll</th>\n",
       "      <th>llr</th>\n",
       "      <th>mut_count</th>\n",
       "      <th>mut_freq</th>\n",
       "      <th>mut_frac</th>\n",
       "    </tr>\n",
       "  </thead>\n",
       "  <tbody>\n",
       "    <tr>\n",
       "      <th>0</th>\n",
       "      <td>DNMT3A</td>\n",
       "      <td>0.168515</td>\n",
       "      <td>-93.655070</td>\n",
       "      <td>57.672523</td>\n",
       "      <td>41</td>\n",
       "      <td>39</td>\n",
       "      <td>0.951220</td>\n",
       "    </tr>\n",
       "    <tr>\n",
       "      <th>1</th>\n",
       "      <td>NRAS</td>\n",
       "      <td>0.064648</td>\n",
       "      <td>-48.954724</td>\n",
       "      <td>24.384305</td>\n",
       "      <td>15</td>\n",
       "      <td>15</td>\n",
       "      <td>1.000000</td>\n",
       "    </tr>\n",
       "    <tr>\n",
       "      <th>2</th>\n",
       "      <td>IDH1</td>\n",
       "      <td>0.074432</td>\n",
       "      <td>-55.133756</td>\n",
       "      <td>23.935563</td>\n",
       "      <td>18</td>\n",
       "      <td>18</td>\n",
       "      <td>1.000000</td>\n",
       "    </tr>\n",
       "    <tr>\n",
       "      <th>3</th>\n",
       "      <td>U2AF1</td>\n",
       "      <td>0.028887</td>\n",
       "      <td>-30.170305</td>\n",
       "      <td>7.919409</td>\n",
       "      <td>8</td>\n",
       "      <td>8</td>\n",
       "      <td>1.000000</td>\n",
       "    </tr>\n",
       "    <tr>\n",
       "      <th>4</th>\n",
       "      <td>RUNX1</td>\n",
       "      <td>0.021221</td>\n",
       "      <td>-31.744660</td>\n",
       "      <td>3.494862</td>\n",
       "      <td>9</td>\n",
       "      <td>8</td>\n",
       "      <td>0.888889</td>\n",
       "    </tr>\n",
       "    <tr>\n",
       "      <th>5</th>\n",
       "      <td>KRAS</td>\n",
       "      <td>0.014277</td>\n",
       "      <td>-27.330936</td>\n",
       "      <td>1.259902</td>\n",
       "      <td>8</td>\n",
       "      <td>8</td>\n",
       "      <td>1.000000</td>\n",
       "    </tr>\n",
       "    <tr>\n",
       "      <th>6</th>\n",
       "      <td>GCLM</td>\n",
       "      <td>0.003312</td>\n",
       "      <td>-5.819498</td>\n",
       "      <td>0.648329</td>\n",
       "      <td>1</td>\n",
       "      <td>1</td>\n",
       "      <td>1.000000</td>\n",
       "    </tr>\n",
       "    <tr>\n",
       "      <th>7</th>\n",
       "      <td>POC1A</td>\n",
       "      <td>0.002926</td>\n",
       "      <td>-5.879168</td>\n",
       "      <td>0.459501</td>\n",
       "      <td>1</td>\n",
       "      <td>1</td>\n",
       "      <td>1.000000</td>\n",
       "    </tr>\n",
       "    <tr>\n",
       "      <th>8</th>\n",
       "      <td>TP53</td>\n",
       "      <td>0.009789</td>\n",
       "      <td>-32.579754</td>\n",
       "      <td>0.393989</td>\n",
       "      <td>11</td>\n",
       "      <td>11</td>\n",
       "      <td>1.000000</td>\n",
       "    </tr>\n",
       "    <tr>\n",
       "      <th>9</th>\n",
       "      <td>PPPDE2</td>\n",
       "      <td>0.002210</td>\n",
       "      <td>-5.620663</td>\n",
       "      <td>0.224983</td>\n",
       "      <td>1</td>\n",
       "      <td>1</td>\n",
       "      <td>1.000000</td>\n",
       "    </tr>\n",
       "  </tbody>\n",
       "</table></td></tr></table>"
      ],
      "text/plain": [
       "<IPython.core.display.HTML object>"
      ]
     },
     "metadata": {},
     "output_type": "display_data"
    },
    {
     "data": {
      "text/html": [
       "<table style='border-collapse: separate; border-spacing: 10px;'><tr><td><strong>obs_exp_df - IDH2:</strong><br><table border=\"1\" class=\"dataframe\">\n",
       "  <thead>\n",
       "    <tr style=\"text-align: right;\">\n",
       "      <th></th>\n",
       "      <th>gene</th>\n",
       "      <th>obs</th>\n",
       "      <th>exp</th>\n",
       "      <th>obs - exp</th>\n",
       "    </tr>\n",
       "  </thead>\n",
       "  <tbody>\n",
       "    <tr>\n",
       "      <th>2</th>\n",
       "      <td>IDH2</td>\n",
       "      <td>20</td>\n",
       "      <td>2.969578</td>\n",
       "      <td>17.030422</td>\n",
       "    </tr>\n",
       "  </tbody>\n",
       "</table></td><td style='border-left: 2px solid black;'><strong>ourmethod_df - IDH2:</strong><br><table border=\"1\" class=\"dataframe\">\n",
       "  <thead>\n",
       "    <tr style=\"text-align: right;\">\n",
       "      <th></th>\n",
       "      <th>gene</th>\n",
       "      <th>pi</th>\n",
       "      <th>ll</th>\n",
       "      <th>llr</th>\n",
       "      <th>mut_count</th>\n",
       "      <th>mut_freq</th>\n",
       "      <th>mut_frac</th>\n",
       "    </tr>\n",
       "  </thead>\n",
       "  <tbody>\n",
       "    <tr>\n",
       "      <th>1001</th>\n",
       "      <td>IDH2</td>\n",
       "      <td>6.916689e-14</td>\n",
       "      <td>-38.823286</td>\n",
       "      <td>-7.844392e-12</td>\n",
       "      <td>20</td>\n",
       "      <td>20</td>\n",
       "      <td>1.0</td>\n",
       "    </tr>\n",
       "  </tbody>\n",
       "</table></td></tr></table>"
      ],
      "text/plain": [
       "<IPython.core.display.HTML object>"
      ]
     },
     "metadata": {},
     "output_type": "display_data"
    }
   ],
   "source": [
    "display_dataframes_side_by_side(obs_exp_df, ourmethod_df, gene_name='IDH2', num_rows=10)"
   ]
  },
  {
   "cell_type": "markdown",
   "id": "c0f90e3a",
   "metadata": {},
   "source": [
    "However, this is **not** just an issue with IDH2. Visualizing the pi values obtained for all the genes w/ ourmethod, we notice that **most are close to 0**."
   ]
  },
  {
   "cell_type": "code",
   "execution_count": 6,
   "id": "00c8aba6",
   "metadata": {},
   "outputs": [
    {
     "data": {
      "image/png": "[encoded data removed]",
      "text/plain": [
       "<Figure size 1008x288 with 1 Axes>"
      ]
     },
     "metadata": {
      "needs_background": "light"
     },
     "output_type": "display_data"
    }
   ],
   "source": [
    "plt.figure(figsize=(14,4))\n",
    "plt.title('OurMethod Obtained $\\hat{\\pi}$ Distribution')\n",
    "plt.xlabel('$\\hat{\\pi}$ value')\n",
    "plt.ylabel('# Genes')\n",
    "plt.hist(ourmethod_df['pi'], log=True, bins=25);\n"
   ]
  },
  {
   "cell_type": "markdown",
   "id": "5cc57303",
   "metadata": {},
   "source": [
    "#### BMR PMF Values\n",
    "\n",
    "For each of IDH1/IDH2, we have the BMR values by sample. Each row in idh1_bmr_df and idh2_bmr_df is a sample and each column indicates the PMF of P(x=k) for k = 0 ... 70."
   ]
  },
  {
   "cell_type": "code",
   "execution_count": 7,
   "id": "bb78a88c",
   "metadata": {},
   "outputs": [
    {
     "name": "stdout",
     "output_type": "stream",
     "text": [
      "IDH1 BMR PMF Values\n"
     ]
    },
    {
     "data": {
      "text/html": [
       "<div>\n",
       "<style scoped>\n",
       "    .dataframe tbody tr th:only-of-type {\n",
       "        vertical-align: middle;\n",
       "    }\n",
       "\n",
       "    .dataframe tbody tr th {\n",
       "        vertical-align: top;\n",
       "    }\n",
       "\n",
       "    .dataframe thead th {\n",
       "        text-align: right;\n",
       "    }\n",
       "</style>\n",
       "<table border=\"1\" class=\"dataframe\">\n",
       "  <thead>\n",
       "    <tr style=\"text-align: right;\">\n",
       "      <th></th>\n",
       "      <th>0</th>\n",
       "      <th>1</th>\n",
       "      <th>2</th>\n",
       "      <th>3</th>\n",
       "      <th>4</th>\n",
       "      <th>5</th>\n",
       "      <th>6</th>\n",
       "      <th>7</th>\n",
       "      <th>8</th>\n",
       "      <th>9</th>\n",
       "      <th>...</th>\n",
       "      <th>61</th>\n",
       "      <th>62</th>\n",
       "      <th>63</th>\n",
       "      <th>64</th>\n",
       "      <th>65</th>\n",
       "      <th>66</th>\n",
       "      <th>67</th>\n",
       "      <th>68</th>\n",
       "      <th>69</th>\n",
       "      <th>70</th>\n",
       "    </tr>\n",
       "  </thead>\n",
       "  <tbody>\n",
       "    <tr>\n",
       "      <th>TCGA-AB-2802-03B-01W-0728-08</th>\n",
       "      <td>0.979743</td>\n",
       "      <td>0.020257</td>\n",
       "      <td>0.0</td>\n",
       "      <td>0.0</td>\n",
       "      <td>0.0</td>\n",
       "      <td>0.0</td>\n",
       "      <td>0.0</td>\n",
       "      <td>0.0</td>\n",
       "      <td>0.0</td>\n",
       "      <td>0.0</td>\n",
       "      <td>...</td>\n",
       "      <td>0.0</td>\n",
       "      <td>0.0</td>\n",
       "      <td>0.0</td>\n",
       "      <td>0.0</td>\n",
       "      <td>0.0</td>\n",
       "      <td>0.0</td>\n",
       "      <td>0.0</td>\n",
       "      <td>0.0</td>\n",
       "      <td>0.0</td>\n",
       "      <td>0.0</td>\n",
       "    </tr>\n",
       "    <tr>\n",
       "      <th>TCGA-AB-2803-03B-01W-0728-08</th>\n",
       "      <td>1.000000</td>\n",
       "      <td>0.000000</td>\n",
       "      <td>0.0</td>\n",
       "      <td>0.0</td>\n",
       "      <td>0.0</td>\n",
       "      <td>0.0</td>\n",
       "      <td>0.0</td>\n",
       "      <td>0.0</td>\n",
       "      <td>0.0</td>\n",
       "      <td>0.0</td>\n",
       "      <td>...</td>\n",
       "      <td>0.0</td>\n",
       "      <td>0.0</td>\n",
       "      <td>0.0</td>\n",
       "      <td>0.0</td>\n",
       "      <td>0.0</td>\n",
       "      <td>0.0</td>\n",
       "      <td>0.0</td>\n",
       "      <td>0.0</td>\n",
       "      <td>0.0</td>\n",
       "      <td>0.0</td>\n",
       "    </tr>\n",
       "    <tr>\n",
       "      <th>TCGA-AB-2804-03B-01W-0728-08</th>\n",
       "      <td>1.000000</td>\n",
       "      <td>0.000000</td>\n",
       "      <td>0.0</td>\n",
       "      <td>0.0</td>\n",
       "      <td>0.0</td>\n",
       "      <td>0.0</td>\n",
       "      <td>0.0</td>\n",
       "      <td>0.0</td>\n",
       "      <td>0.0</td>\n",
       "      <td>0.0</td>\n",
       "      <td>...</td>\n",
       "      <td>0.0</td>\n",
       "      <td>0.0</td>\n",
       "      <td>0.0</td>\n",
       "      <td>0.0</td>\n",
       "      <td>0.0</td>\n",
       "      <td>0.0</td>\n",
       "      <td>0.0</td>\n",
       "      <td>0.0</td>\n",
       "      <td>0.0</td>\n",
       "      <td>0.0</td>\n",
       "    </tr>\n",
       "    <tr>\n",
       "      <th>TCGA-AB-2805-03B-01W-0728-08</th>\n",
       "      <td>0.979743</td>\n",
       "      <td>0.020257</td>\n",
       "      <td>0.0</td>\n",
       "      <td>0.0</td>\n",
       "      <td>0.0</td>\n",
       "      <td>0.0</td>\n",
       "      <td>0.0</td>\n",
       "      <td>0.0</td>\n",
       "      <td>0.0</td>\n",
       "      <td>0.0</td>\n",
       "      <td>...</td>\n",
       "      <td>0.0</td>\n",
       "      <td>0.0</td>\n",
       "      <td>0.0</td>\n",
       "      <td>0.0</td>\n",
       "      <td>0.0</td>\n",
       "      <td>0.0</td>\n",
       "      <td>0.0</td>\n",
       "      <td>0.0</td>\n",
       "      <td>0.0</td>\n",
       "      <td>0.0</td>\n",
       "    </tr>\n",
       "    <tr>\n",
       "      <th>TCGA-AB-2806-03B-01W-0728-08</th>\n",
       "      <td>1.000000</td>\n",
       "      <td>0.000000</td>\n",
       "      <td>0.0</td>\n",
       "      <td>0.0</td>\n",
       "      <td>0.0</td>\n",
       "      <td>0.0</td>\n",
       "      <td>0.0</td>\n",
       "      <td>0.0</td>\n",
       "      <td>0.0</td>\n",
       "      <td>0.0</td>\n",
       "      <td>...</td>\n",
       "      <td>0.0</td>\n",
       "      <td>0.0</td>\n",
       "      <td>0.0</td>\n",
       "      <td>0.0</td>\n",
       "      <td>0.0</td>\n",
       "      <td>0.0</td>\n",
       "      <td>0.0</td>\n",
       "      <td>0.0</td>\n",
       "      <td>0.0</td>\n",
       "      <td>0.0</td>\n",
       "    </tr>\n",
       "  </tbody>\n",
       "</table>\n",
       "<p>5 rows × 71 columns</p>\n",
       "</div>"
      ],
      "text/plain": [
       "                                    0         1    2    3    4    5    6   \\\n",
       "TCGA-AB-2802-03B-01W-0728-08  0.979743  0.020257  0.0  0.0  0.0  0.0  0.0   \n",
       "TCGA-AB-2803-03B-01W-0728-08  1.000000  0.000000  0.0  0.0  0.0  0.0  0.0   \n",
       "TCGA-AB-2804-03B-01W-0728-08  1.000000  0.000000  0.0  0.0  0.0  0.0  0.0   \n",
       "TCGA-AB-2805-03B-01W-0728-08  0.979743  0.020257  0.0  0.0  0.0  0.0  0.0   \n",
       "TCGA-AB-2806-03B-01W-0728-08  1.000000  0.000000  0.0  0.0  0.0  0.0  0.0   \n",
       "\n",
       "                               7    8    9   ...   61   62   63   64   65  \\\n",
       "TCGA-AB-2802-03B-01W-0728-08  0.0  0.0  0.0  ...  0.0  0.0  0.0  0.0  0.0   \n",
       "TCGA-AB-2803-03B-01W-0728-08  0.0  0.0  0.0  ...  0.0  0.0  0.0  0.0  0.0   \n",
       "TCGA-AB-2804-03B-01W-0728-08  0.0  0.0  0.0  ...  0.0  0.0  0.0  0.0  0.0   \n",
       "TCGA-AB-2805-03B-01W-0728-08  0.0  0.0  0.0  ...  0.0  0.0  0.0  0.0  0.0   \n",
       "TCGA-AB-2806-03B-01W-0728-08  0.0  0.0  0.0  ...  0.0  0.0  0.0  0.0  0.0   \n",
       "\n",
       "                               66   67   68   69   70  \n",
       "TCGA-AB-2802-03B-01W-0728-08  0.0  0.0  0.0  0.0  0.0  \n",
       "TCGA-AB-2803-03B-01W-0728-08  0.0  0.0  0.0  0.0  0.0  \n",
       "TCGA-AB-2804-03B-01W-0728-08  0.0  0.0  0.0  0.0  0.0  \n",
       "TCGA-AB-2805-03B-01W-0728-08  0.0  0.0  0.0  0.0  0.0  \n",
       "TCGA-AB-2806-03B-01W-0728-08  0.0  0.0  0.0  0.0  0.0  \n",
       "\n",
       "[5 rows x 71 columns]"
      ]
     },
     "execution_count": 7,
     "metadata": {},
     "output_type": "execute_result"
    }
   ],
   "source": [
    "print('IDH1 BMR PMF Values')\n",
    "idh1_bmr_df.head()"
   ]
  },
  {
   "cell_type": "markdown",
   "id": "5a868844",
   "metadata": {},
   "source": [
    "PMF Values is near 0 for all samples. **Expected Mutation Counts** for each sample are calculated and plotted for IDH1/IDH2:"
   ]
  },
  {
   "cell_type": "code",
   "execution_count": 10,
   "id": "8b7ed92d",
   "metadata": {},
   "outputs": [
    {
     "data": {
      "image/png": "[encoded data removed]",
      "text/plain": [
       "<Figure size 1008x288 with 2 Axes>"
      ]
     },
     "metadata": {
      "needs_background": "light"
     },
     "output_type": "display_data"
    }
   ],
   "source": [
    "import numpy as np\n",
    "import matplotlib.pyplot as plt\n",
    "\n",
    "idh1_exp_vals, idh2_exp_vals = [], []\n",
    "for idx, row in idh1_bmr_df.iterrows(): idh1_exp_vals.append(np.sum([x * row[x] for x in range(len(row))]))\n",
    "for idx, row in idh2_bmr_df.iterrows(): idh2_exp_vals.append(np.sum([x * row[x] for x in range(len(row))]))  \n",
    "\n",
    "# First Plot\n",
    "x_positions = np.arange(len(idh1_exp_vals))\n",
    "plt.figure(figsize=(14, 4))\n",
    "\n",
    "plt.subplot(1, 2, 1)\n",
    "plt.scatter(x_positions, idh1_exp_vals, color='blue', label='IDH1', marker='o', alpha=0.35)\n",
    "plt.scatter(x_positions, idh2_exp_vals, color='orange', label='IDH2', marker='o', alpha=0.35)\n",
    "plt.xlabel('Sample (183 total)')\n",
    "plt.title('Expected Mutations by Sample')\n",
    "plt.ylabel('Expected Mutation Counts - E[PMF Vals]')\n",
    "plt.legend()\n",
    "\n",
    "# Second Plot\n",
    "plt.subplot(1, 2, 2)\n",
    "plt.scatter(idh1_exp_vals, idh2_exp_vals, color='red', marker='o', alpha=0.1)\n",
    "plt.xlabel('IDH1 Expected Mutation Counts')\n",
    "plt.ylabel('IDH2 Expected Mutation Counts')\n",
    "plt.title('Scatter Plot: IDH1 vs IDH2 Expected Mutations');"
   ]
  },
  {
   "cell_type": "markdown",
   "id": "2229dd66",
   "metadata": {},
   "source": [
    "IDH2 has **greater** magnitude of expected mutation counts than IDH1 for its samples w/ nonzero expected mutation counts."
   ]
  },
  {
   "cell_type": "markdown",
   "id": "43dbdc17",
   "metadata": {},
   "source": [
    "#### Count Matrix"
   ]
  },
  {
   "cell_type": "code",
   "execution_count": 11,
   "id": "b186740e",
   "metadata": {},
   "outputs": [
    {
     "data": {
      "image/png": "[encoded data removed]",
      "text/plain": [
       "<Figure size 1152x108 with 2 Axes>"
      ]
     },
     "metadata": {
      "needs_background": "light"
     },
     "output_type": "display_data"
    }
   ],
   "source": [
    "plt.figure(figsize=(16, 1.5))\n",
    "sns.heatmap(cnt_mat_df[['IDH1', 'IDH2']].T, cmap='Oranges', fmt='d', xticklabels=False)\n",
    "plt.title('Count Matrix Heatmap')\n",
    "plt.show()"
   ]
  },
  {
   "cell_type": "markdown",
   "id": "dafe3675",
   "metadata": {},
   "source": [
    "### Estimating Pi Vals\n",
    "\n",
    "For each of IDH1/IDH2, do 1D paramter search over all possible values of pi (0-1) and select the value that minimizes the negative log likelihood across all samples."
   ]
  },
  {
   "cell_type": "code",
   "execution_count": 12,
   "id": "72adc175",
   "metadata": {},
   "outputs": [],
   "source": [
    "def calculate_pi_hat(cnts, bmr_probs_dict):\n",
    "    # Get bmr pmf values for mutation count (c) and (c - 1)\n",
    "    bmr_probs_c = np.array([bmr_probs_dict[name][c] for name, c in zip(cnts.index, cnts.values)])\n",
    "    bmr_probs_c_min_1 = np.array([bmr_probs_dict[name][c - 1] if c > 0 else 0 for name, c in zip(cnts.index, cnts.values)])\n",
    "    # Calculate pi and negative log-likelihood values\n",
    "    pi_and_nll_vals = []\n",
    "    for pi in np.linspace(0.01, 0.99, 100):\n",
    "        likelihoods = (1 - pi) * bmr_probs_c + pi * bmr_probs_c_min_1\n",
    "        nll = -np.sum(np.log(likelihoods))\n",
    "        pi_and_nll_vals.append((pi, nll))\n",
    "    pi_hat = min(pi_and_nll_vals, key=lambda x: x[1])[0] # Find pi value that minimizes negative log-likelihood\n",
    "    return pi_hat, pi_and_nll_vals"
   ]
  },
  {
   "cell_type": "markdown",
   "id": "4b9d9502",
   "metadata": {},
   "source": [
    "##### IDH1 & IDH2 Side by Side"
   ]
  },
  {
   "cell_type": "code",
   "execution_count": 14,
   "id": "c6e67188",
   "metadata": {},
   "outputs": [],
   "source": [
    "idh1_pi_hat, idh1_pi_and_nll_vals = calculate_pi_hat(cnt_mat_df['IDH1'], idh1_bmr_dict)\n",
    "idh2_pi_hat, idh2_pi_and_nll_vals = calculate_pi_hat(cnt_mat_df['IDH2'], idh2_bmr_dict)"
   ]
  },
  {
   "cell_type": "code",
   "execution_count": 16,
   "id": "597b29f3",
   "metadata": {},
   "outputs": [
    {
     "data": {
      "image/png": "[encoded data removed]",
      "text/plain": [
       "<Figure size 1008x288 with 2 Axes>"
      ]
     },
     "metadata": {
      "needs_background": "light"
     },
     "output_type": "display_data"
    }
   ],
   "source": [
    "def plot_nll_vs_pi(pi_and_nll_vals, pi_hat, color, label, ax):\n",
    "    ax.scatter([x[0] for x in pi_and_nll_vals], [x[1] for x in pi_and_nll_vals], color=color, alpha=0.5)\n",
    "    ax.axvline(pi_hat, color='r', linestyle='--', label=label + f'= {np.round(pi_hat, 3)}')\n",
    "\n",
    "fig, axes = plt.subplots(1, 2, figsize=(14, 4))\n",
    "# Plot for IDH1\n",
    "plot_nll_vs_pi(idh1_pi_and_nll_vals, idh1_pi_hat, 'blue', r'$\\hat{\\pi}_{IDH1}$', axes[0])\n",
    "axes[0].set_title('IDH1 Negative Log Likelihood (NLL) by Pi Values Plot')\n",
    "axes[0].set_xlabel('Pi Value')\n",
    "axes[0].set_ylabel('NLL')\n",
    "axes[0].legend()\n",
    "\n",
    "# Plot for IDH2\n",
    "plot_nll_vs_pi(idh2_pi_and_nll_vals, idh2_pi_hat, 'orange', r'$\\hat{\\pi}_{IDH2}$', axes[1])\n",
    "axes[1].set_title('IDH2 Negative Log Likelihood (NLL) by Pi Values Plot')\n",
    "axes[1].set_xlabel('Pi Value')\n",
    "axes[1].set_ylabel('NLL')\n",
    "axes[1].legend();"
   ]
  },
  {
   "cell_type": "markdown",
   "id": "2245355b",
   "metadata": {},
   "source": [
    "#### Additional Plots to Diagnose Root Cause"
   ]
  },
  {
   "cell_type": "markdown",
   "id": "98e57ab1",
   "metadata": {},
   "source": [
    "##### Likelihood Scatter Plots\n",
    "\n",
    "Using the pi_hat values that minimize the NLL, we scatter plot the likelihoods by sample for IDH1/IDH2"
   ]
  },
  {
   "cell_type": "code",
   "execution_count": 17,
   "id": "df9c0ec2",
   "metadata": {},
   "outputs": [],
   "source": [
    "cnts=cnt_mat_df['IDH1']\n",
    "idh1_bmr_probs_c = np.array([idh1_bmr_dict[name][c] for name, c in zip(cnts.index, cnts.values)])\n",
    "idh1_bmr_probs_c_min_1 = np.array([idh1_bmr_dict[name][c - 1] if c > 0 else 0 for name, c in zip(cnts.index, cnts.values)])\n",
    "idh1_likelihoods = (1 - idh1_pi_hat) * idh1_bmr_probs_c + idh1_pi_hat * idh1_bmr_probs_c_min_1\n",
    "\n",
    "cnts=cnt_mat_df['IDH2']\n",
    "idh2_bmr_probs_c = np.array([idh2_bmr_dict[name][c] for name, c in zip(cnts.index, cnts.values)])\n",
    "idh2_bmr_probs_c_min_1 = np.array([idh2_bmr_dict[name][c - 1] if c > 0 else 0 for name, c in zip(cnts.index, cnts.values)])\n",
    "idh2_likelihoods = (1 - idh2_pi_hat) * idh2_bmr_probs_c + idh2_pi_hat * idh2_bmr_probs_c_min_1"
   ]
  },
  {
   "cell_type": "code",
   "execution_count": 18,
   "id": "aa64893d",
   "metadata": {},
   "outputs": [
    {
     "data": {
      "text/plain": [
       "Text(0.5, 1.0, 'Scatter Plot: IDH1 vs IDH2 Likelihoods')"
      ]
     },
     "execution_count": 18,
     "metadata": {},
     "output_type": "execute_result"
    },
    {
     "data": {
      "image/png": "[encoded data removed]",
      "text/plain": [
       "<Figure size 1008x288 with 2 Axes>"
      ]
     },
     "metadata": {
      "needs_background": "light"
     },
     "output_type": "display_data"
    }
   ],
   "source": [
    "x_positions = np.arange(len(idh1_likelihoods))\n",
    "plt.figure(figsize=(14, 4))\n",
    "\n",
    "plt.subplot(1, 2, 1)\n",
    "plt.scatter(x_positions, idh1_likelihoods, color='blue', label='IDH1', marker='o', alpha=0.25)\n",
    "plt.scatter(x_positions, idh2_likelihoods, color='orange', label='IDH2', marker='o', alpha=0.25)\n",
    "plt.xlabel('Sample (183 total)')\n",
    "plt.title('Likelihoods by Sample')\n",
    "plt.ylabel('Likelihood Values')\n",
    "plt.legend()\n",
    "\n",
    "plt.subplot(1, 2, 2)\n",
    "plt.scatter(idh1_likelihoods, idh2_likelihoods, color='red', marker='o', alpha=0.1)\n",
    "plt.xlabel('IDH1 Likelihood Values')\n",
    "plt.ylabel('IDH2 Likelihood Values')\n",
    "plt.title('Scatter Plot: IDH1 vs IDH2 Likelihoods')\n"
   ]
  },
  {
   "cell_type": "markdown",
   "id": "c5536404",
   "metadata": {},
   "source": [
    "##### BMR P(x = 0) Scatter Plots"
   ]
  },
  {
   "cell_type": "code",
   "execution_count": 19,
   "id": "bca09bab",
   "metadata": {},
   "outputs": [
    {
     "data": {
      "text/plain": [
       "Text(0.5, 1.0, 'BMR P(x = 0) by Sample')"
      ]
     },
     "execution_count": 19,
     "metadata": {},
     "output_type": "execute_result"
    },
    {
     "data": {
      "image/png": "[encoded data removed]",
      "text/plain": [
       "<Figure size 432x288 with 1 Axes>"
      ]
     },
     "metadata": {
      "needs_background": "light"
     },
     "output_type": "display_data"
    }
   ],
   "source": [
    "plt.figure(figsize=(6, 4))\n",
    "\n",
    "idh1_bmr_probs_0 = np.array([idh1_bmr_dict[name][0] for name, c in zip(cnts.index, cnts.values)])\n",
    "idh2_bmr_probs_0 = np.array([idh2_bmr_dict[name][0] for name, c in zip(cnts.index, cnts.values)])\n",
    "plt.scatter(idh1_bmr_probs_0, idh2_bmr_probs_0, color='red', marker='o', alpha=0.1)\n",
    "plt.xlabel('IDH1 P(x=0) Values')\n",
    "plt.ylabel('IDH2 P(x=0) Values')\n",
    "plt.title('BMR P(x = 0) by Sample')"
   ]
  }
 ],
 "metadata": {
  "kernelspec": {
   "display_name": "Python 3 (ipykernel)",
   "language": "python",
   "name": "python3"
  },
  "language_info": {
   "codemirror_mode": {
    "name": "ipython",
    "version": 3
   },
   "file_extension": ".py",
   "mimetype": "text/x-python",
   "name": "python",
   "nbconvert_exporter": "python",
   "pygments_lexer": "ipython3",
   "version": "3.9.12"
  }
 },
 "nbformat": 4,
 "nbformat_minor": 5
}
